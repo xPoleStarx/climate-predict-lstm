{
 "cells": [
  {
   "cell_type": "code",
   "execution_count": 2,
   "metadata": {},
   "outputs": [],
   "source": [
    "import numpy as np\n",
    "import pandas as pd\n",
    "import torch\n",
    "import torch.nn as nn\n",
    "from torch.utils.data import DataLoader, TensorDataset\n",
    "from sklearn.metrics import mean_squared_error, r2_score"
   ]
  },
  {
   "cell_type": "code",
   "execution_count": 3,
   "metadata": {},
   "outputs": [],
   "source": [
    "# Train ve Test veri setlerini okuma\n",
    "train_data = pd.read_csv('DailyDelhiClimateTrain.csv')\n",
    "test_data = pd.read_csv('DailyDelhiClimateTest.csv')"
   ]
  },
  {
   "cell_type": "code",
   "execution_count": 4,
   "metadata": {},
   "outputs": [
    {
     "data": {
      "text/plain": [
       "array([[  10.       ,   84.5      ,    0.       , 1015.6667   ],\n",
       "       [   7.4      ,   92.       ,    2.98     , 1017.8      ],\n",
       "       [   7.1666665,   87.       ,    4.633333 , 1018.6667   ],\n",
       "       ...,\n",
       "       [  14.095238 ,   89.666664 ,    6.266667 , 1017.9048   ],\n",
       "       [  15.052631 ,   87.       ,    7.325    , 1016.1      ],\n",
       "       [  10.       ,  100.       ,    0.       , 1016.       ]],\n",
       "      dtype=float32)"
      ]
     },
     "execution_count": 4,
     "metadata": {},
     "output_type": "execute_result"
    }
   ],
   "source": [
    "# Veriyi numpy dizilerine dönüştürme\n",
    "train_np = train_data[['meantemp', 'humidity',\n",
    "                       'wind_speed', 'meanpressure']].values.astype(np.float32)\n",
    "test_np = test_data[['meantemp', 'humidity', 'wind_speed',\n",
    "                     'meanpressure']].values.astype(np.float32)"
   ]
  },
  {
   "cell_type": "code",
   "execution_count": 5,
   "metadata": {},
   "outputs": [],
   "source": [
    "# Veriyi zaman serisi penceresi haline getirme fonksiyonu\n",
    "def create_sequences(input_data, window_size):\n",
    "    sequences = []\n",
    "    for i in range(len(input_data) - window_size):\n",
    "        sequence = input_data[i:i+window_size]\n",
    "        sequences.append(sequence)\n",
    "    return np.array(sequences)"
   ]
  },
  {
   "cell_type": "code",
   "execution_count": 6,
   "metadata": {},
   "outputs": [],
   "source": [
    "# Zaman serisi penceresi boyutunu belirleme\n",
    "window_size = 7  # Örneğin, bir haftalık pencere"
   ]
  },
  {
   "cell_type": "code",
   "execution_count": 7,
   "metadata": {},
   "outputs": [],
   "source": [
    "# Train ve Test veri setlerini zaman serisi penceresi haline getirme\n",
    "train_sequences = create_sequences(train_np, window_size)\n",
    "test_sequences = create_sequences(test_np, window_size)"
   ]
  },
  {
   "cell_type": "code",
   "execution_count": 8,
   "metadata": {},
   "outputs": [],
   "source": [
    "# Numpy dizilerini PyTorch Tensor'larına dönüştürme\n",
    "train_sequences_tensor = torch.from_numpy(train_sequences)\n",
    "test_sequences_tensor = torch.from_numpy(test_sequences)"
   ]
  },
  {
   "cell_type": "code",
   "execution_count": 9,
   "metadata": {},
   "outputs": [],
   "source": [
    "# Tahmin edilecek hedef değişkeni oluşturma (meantemp)\n",
    "train_targets_tensor = torch.from_numpy(\n",
    "    train_data['meantemp'][window_size:].values.astype(np.float32))\n",
    "test_targets_tensor = torch.from_numpy(\n",
    "    test_data['meantemp'][window_size:].values.astype(np.float32))"
   ]
  },
  {
   "cell_type": "code",
   "execution_count": 10,
   "metadata": {},
   "outputs": [],
   "source": [
    "# Veri yükleyici oluşturma\n",
    "batch_size = 64\n",
    "train_dataset = TensorDataset(train_sequences_tensor, train_targets_tensor)\n",
    "train_loader = DataLoader(train_dataset, batch_size=batch_size, shuffle=True)\n",
    "\n",
    "test_dataset = TensorDataset(test_sequences_tensor, test_targets_tensor)\n",
    "test_loader = DataLoader(test_dataset, batch_size=batch_size, shuffle=False)"
   ]
  },
  {
   "cell_type": "code",
   "execution_count": 11,
   "metadata": {},
   "outputs": [],
   "source": [
    "class LSTM(nn.Module):\n",
    "    def __init__(self, input_size, hidden_size, num_layers, output_size):\n",
    "        super(LSTM, self).__init__()\n",
    "        self.hidden_size = hidden_size\n",
    "        self.num_layers = num_layers\n",
    "        self.lstm = nn.LSTM(input_size, hidden_size,\n",
    "                            num_layers, batch_first=True)\n",
    "        self.fc = nn.Linear(hidden_size, output_size)\n",
    "\n",
    "    def forward(self, x):\n",
    "        h0 = torch.zeros(self.num_layers, x.size(\n",
    "            0), self.hidden_size).to(x.device)\n",
    "        c0 = torch.zeros(self.num_layers, x.size(\n",
    "            0), self.hidden_size).to(x.device)\n",
    "\n",
    "        out, _ = self.lstm(x, (h0, c0))\n",
    "\n",
    "        out = self.fc(out[:, -1, :])  # Son zaman adımı için sadece çıktıyı al\n",
    "        return out"
   ]
  },
  {
   "cell_type": "code",
   "execution_count": 12,
   "metadata": {},
   "outputs": [],
   "source": [
    "# Modelin parametrelerini tanımlama\n",
    "# Veri setindeki özellik sayısı (meantemp, humidity, wind_speed, meanpressure)\n",
    "input_size = 4\n",
    "hidden_size = 64  # LSTM katmanının gizli birim sayısı\n",
    "num_layers = 2  # LSTM katman sayısı\n",
    "output_size = 1  # Tahmin edilecek hedef değişken (meantemp)"
   ]
  },
  {
   "cell_type": "code",
   "execution_count": 13,
   "metadata": {},
   "outputs": [],
   "source": [
    "# LSTM modelini oluşturma\n",
    "model = LSTM(input_size, hidden_size, num_layers, output_size)"
   ]
  },
  {
   "cell_type": "code",
   "execution_count": 14,
   "metadata": {},
   "outputs": [],
   "source": [
    "# Eğitim için hata fonksiyonu ve optimizasyon algoritmasını tanımlama\n",
    "criterion = nn.MSELoss()\n",
    "optimizer = torch.optim.Adam(model.parameters(), lr=0.001)"
   ]
  },
  {
   "cell_type": "code",
   "execution_count": 15,
   "metadata": {},
   "outputs": [
    {
     "data": {
      "text/plain": [
       "LSTM(\n",
       "  (lstm): LSTM(4, 64, num_layers=2, batch_first=True)\n",
       "  (fc): Linear(in_features=64, out_features=1, bias=True)\n",
       ")"
      ]
     },
     "execution_count": 15,
     "metadata": {},
     "output_type": "execute_result"
    }
   ],
   "source": [
    "# Eğitim döngüsü\n",
    "num_epochs = 200\n",
    "model.train()"
   ]
  },
  {
   "cell_type": "code",
   "execution_count": 16,
   "metadata": {},
   "outputs": [
    {
     "name": "stdout",
     "output_type": "stream",
     "text": [
      "Epoch [1/200], Loss: 535.2468\n",
      "Epoch [2/200], Loss: 465.5289\n",
      "Epoch [3/200], Loss: 338.2459\n",
      "Epoch [4/200], Loss: 323.5674\n",
      "Epoch [5/200], Loss: 227.4790\n",
      "Epoch [6/200], Loss: 200.0331\n",
      "Epoch [7/200], Loss: 200.6122\n",
      "Epoch [8/200], Loss: 147.8798\n",
      "Epoch [9/200], Loss: 132.5266\n",
      "Epoch [10/200], Loss: 133.3691\n",
      "Epoch [11/200], Loss: 120.7035\n",
      "Epoch [12/200], Loss: 70.7717\n",
      "Epoch [13/200], Loss: 73.3401\n",
      "Epoch [14/200], Loss: 105.6875\n",
      "Epoch [15/200], Loss: 66.7869\n",
      "Epoch [16/200], Loss: 75.5688\n",
      "Epoch [17/200], Loss: 62.8279\n",
      "Epoch [18/200], Loss: 57.8318\n",
      "Epoch [19/200], Loss: 62.4211\n",
      "Epoch [20/200], Loss: 55.7328\n",
      "Epoch [21/200], Loss: 54.9285\n",
      "Epoch [22/200], Loss: 56.6852\n",
      "Epoch [23/200], Loss: 57.3633\n",
      "Epoch [24/200], Loss: 62.0987\n",
      "Epoch [25/200], Loss: 56.8657\n",
      "Epoch [26/200], Loss: 55.7242\n",
      "Epoch [27/200], Loss: 47.4290\n",
      "Epoch [28/200], Loss: 58.5065\n",
      "Epoch [29/200], Loss: 35.5683\n",
      "Epoch [30/200], Loss: 23.2174\n",
      "Epoch [31/200], Loss: 32.5303\n",
      "Epoch [32/200], Loss: 14.0134\n",
      "Epoch [33/200], Loss: 12.8828\n",
      "Epoch [34/200], Loss: 10.2981\n",
      "Epoch [35/200], Loss: 15.1117\n",
      "Epoch [36/200], Loss: 7.5661\n",
      "Epoch [37/200], Loss: 12.5798\n",
      "Epoch [38/200], Loss: 8.6645\n",
      "Epoch [39/200], Loss: 3.4653\n",
      "Epoch [40/200], Loss: 6.5705\n",
      "Epoch [41/200], Loss: 7.7451\n",
      "Epoch [42/200], Loss: 6.8346\n",
      "Epoch [43/200], Loss: 7.2279\n",
      "Epoch [44/200], Loss: 9.1416\n",
      "Epoch [45/200], Loss: 6.1361\n",
      "Epoch [46/200], Loss: 6.6976\n",
      "Epoch [47/200], Loss: 4.9833\n",
      "Epoch [48/200], Loss: 6.6663\n",
      "Epoch [49/200], Loss: 2.9120\n",
      "Epoch [50/200], Loss: 5.1468\n",
      "Epoch [51/200], Loss: 4.6239\n",
      "Epoch [52/200], Loss: 6.2606\n",
      "Epoch [53/200], Loss: 2.8671\n",
      "Epoch [54/200], Loss: 6.9742\n",
      "Epoch [55/200], Loss: 9.6814\n",
      "Epoch [56/200], Loss: 5.1833\n",
      "Epoch [57/200], Loss: 4.5475\n",
      "Epoch [58/200], Loss: 5.4858\n",
      "Epoch [59/200], Loss: 3.4175\n",
      "Epoch [60/200], Loss: 4.5204\n",
      "Epoch [61/200], Loss: 5.0049\n",
      "Epoch [62/200], Loss: 3.9208\n",
      "Epoch [63/200], Loss: 3.5676\n",
      "Epoch [64/200], Loss: 5.2284\n",
      "Epoch [65/200], Loss: 5.7133\n",
      "Epoch [66/200], Loss: 4.5531\n",
      "Epoch [67/200], Loss: 6.3098\n",
      "Epoch [68/200], Loss: 4.9292\n",
      "Epoch [69/200], Loss: 3.8081\n",
      "Epoch [70/200], Loss: 3.8396\n",
      "Epoch [71/200], Loss: 4.4522\n",
      "Epoch [72/200], Loss: 3.4890\n",
      "Epoch [73/200], Loss: 2.7946\n",
      "Epoch [74/200], Loss: 3.4209\n",
      "Epoch [75/200], Loss: 6.3029\n",
      "Epoch [76/200], Loss: 6.3523\n",
      "Epoch [77/200], Loss: 3.2119\n",
      "Epoch [78/200], Loss: 3.3427\n",
      "Epoch [79/200], Loss: 3.3936\n",
      "Epoch [80/200], Loss: 4.8894\n",
      "Epoch [81/200], Loss: 3.2148\n",
      "Epoch [82/200], Loss: 4.5292\n",
      "Epoch [83/200], Loss: 4.1218\n",
      "Epoch [84/200], Loss: 4.9339\n",
      "Epoch [85/200], Loss: 1.7742\n",
      "Epoch [86/200], Loss: 3.9460\n",
      "Epoch [87/200], Loss: 5.3255\n",
      "Epoch [88/200], Loss: 6.8072\n",
      "Epoch [89/200], Loss: 5.2427\n",
      "Epoch [90/200], Loss: 3.2507\n",
      "Epoch [91/200], Loss: 4.8018\n",
      "Epoch [92/200], Loss: 4.0320\n",
      "Epoch [93/200], Loss: 2.7652\n",
      "Epoch [94/200], Loss: 2.8144\n",
      "Epoch [95/200], Loss: 4.6026\n",
      "Epoch [96/200], Loss: 3.1255\n",
      "Epoch [97/200], Loss: 5.1300\n",
      "Epoch [98/200], Loss: 2.4500\n",
      "Epoch [99/200], Loss: 3.8064\n",
      "Epoch [100/200], Loss: 3.3689\n",
      "Epoch [101/200], Loss: 4.8113\n",
      "Epoch [102/200], Loss: 4.1437\n",
      "Epoch [103/200], Loss: 3.9223\n",
      "Epoch [104/200], Loss: 4.0950\n",
      "Epoch [105/200], Loss: 6.1277\n",
      "Epoch [106/200], Loss: 5.0071\n",
      "Epoch [107/200], Loss: 4.5861\n",
      "Epoch [108/200], Loss: 3.6649\n",
      "Epoch [109/200], Loss: 2.3917\n",
      "Epoch [110/200], Loss: 4.8585\n",
      "Epoch [111/200], Loss: 2.4449\n",
      "Epoch [112/200], Loss: 2.4387\n",
      "Epoch [113/200], Loss: 5.3687\n",
      "Epoch [114/200], Loss: 6.0161\n",
      "Epoch [115/200], Loss: 4.3872\n",
      "Epoch [116/200], Loss: 6.3174\n",
      "Epoch [117/200], Loss: 6.2002\n",
      "Epoch [118/200], Loss: 3.2974\n",
      "Epoch [119/200], Loss: 3.5688\n",
      "Epoch [120/200], Loss: 6.2474\n",
      "Epoch [121/200], Loss: 3.9073\n",
      "Epoch [122/200], Loss: 6.2247\n",
      "Epoch [123/200], Loss: 4.0332\n",
      "Epoch [124/200], Loss: 4.5626\n",
      "Epoch [125/200], Loss: 5.0805\n",
      "Epoch [126/200], Loss: 3.4957\n",
      "Epoch [127/200], Loss: 3.3158\n",
      "Epoch [128/200], Loss: 4.5258\n",
      "Epoch [129/200], Loss: 3.4780\n",
      "Epoch [130/200], Loss: 3.9535\n",
      "Epoch [131/200], Loss: 3.9810\n",
      "Epoch [132/200], Loss: 3.9772\n",
      "Epoch [133/200], Loss: 3.0141\n",
      "Epoch [134/200], Loss: 3.7470\n",
      "Epoch [135/200], Loss: 3.3727\n",
      "Epoch [136/200], Loss: 2.9111\n",
      "Epoch [137/200], Loss: 3.9971\n",
      "Epoch [138/200], Loss: 4.2261\n",
      "Epoch [139/200], Loss: 3.6353\n",
      "Epoch [140/200], Loss: 3.8673\n",
      "Epoch [141/200], Loss: 3.0297\n",
      "Epoch [142/200], Loss: 3.8784\n",
      "Epoch [143/200], Loss: 4.1967\n",
      "Epoch [144/200], Loss: 4.9140\n",
      "Epoch [145/200], Loss: 2.9404\n",
      "Epoch [146/200], Loss: 3.0873\n",
      "Epoch [147/200], Loss: 3.4340\n",
      "Epoch [148/200], Loss: 3.3743\n",
      "Epoch [149/200], Loss: 2.4273\n",
      "Epoch [150/200], Loss: 1.9142\n",
      "Epoch [151/200], Loss: 3.3569\n",
      "Epoch [152/200], Loss: 4.0044\n",
      "Epoch [153/200], Loss: 2.8655\n",
      "Epoch [154/200], Loss: 2.3698\n",
      "Epoch [155/200], Loss: 3.6947\n",
      "Epoch [156/200], Loss: 4.1909\n",
      "Epoch [157/200], Loss: 2.8051\n",
      "Epoch [158/200], Loss: 3.3477\n",
      "Epoch [159/200], Loss: 3.0818\n",
      "Epoch [160/200], Loss: 3.7026\n",
      "Epoch [161/200], Loss: 2.9247\n",
      "Epoch [162/200], Loss: 5.9465\n",
      "Epoch [163/200], Loss: 3.9061\n",
      "Epoch [164/200], Loss: 4.1359\n",
      "Epoch [165/200], Loss: 4.1842\n",
      "Epoch [166/200], Loss: 3.3978\n",
      "Epoch [167/200], Loss: 3.7031\n",
      "Epoch [168/200], Loss: 2.8647\n",
      "Epoch [169/200], Loss: 3.6422\n",
      "Epoch [170/200], Loss: 4.0054\n",
      "Epoch [171/200], Loss: 5.1805\n",
      "Epoch [172/200], Loss: 3.3795\n",
      "Epoch [173/200], Loss: 3.1844\n",
      "Epoch [174/200], Loss: 4.1924\n",
      "Epoch [175/200], Loss: 4.1156\n",
      "Epoch [176/200], Loss: 3.1223\n",
      "Epoch [177/200], Loss: 4.6442\n",
      "Epoch [178/200], Loss: 2.2694\n",
      "Epoch [179/200], Loss: 2.6420\n",
      "Epoch [180/200], Loss: 3.9600\n",
      "Epoch [181/200], Loss: 4.0661\n",
      "Epoch [182/200], Loss: 6.6683\n",
      "Epoch [183/200], Loss: 5.3940\n",
      "Epoch [184/200], Loss: 2.5032\n",
      "Epoch [185/200], Loss: 4.1902\n",
      "Epoch [186/200], Loss: 3.9082\n",
      "Epoch [187/200], Loss: 3.0224\n",
      "Epoch [188/200], Loss: 3.5105\n",
      "Epoch [189/200], Loss: 3.0809\n",
      "Epoch [190/200], Loss: 2.1196\n",
      "Epoch [191/200], Loss: 3.2645\n",
      "Epoch [192/200], Loss: 4.6387\n",
      "Epoch [193/200], Loss: 5.7078\n",
      "Epoch [194/200], Loss: 4.7108\n",
      "Epoch [195/200], Loss: 3.9848\n",
      "Epoch [196/200], Loss: 2.0654\n",
      "Epoch [197/200], Loss: 3.0596\n",
      "Epoch [198/200], Loss: 3.3711\n",
      "Epoch [199/200], Loss: 2.6606\n",
      "Epoch [200/200], Loss: 2.9155\n"
     ]
    }
   ],
   "source": [
    "device = torch.device('cuda' if torch.cuda.is_available() else 'cpu')\n",
    "for epoch in range(num_epochs):\n",
    "    # FILEPATH: /c:/Users/seyfullahkorkmaz/VsCodeProjects/climate-predict-lstm/main.ipynb\n",
    "    for batch_inputs, batch_targets in train_loader:\n",
    "        # Veriyi uygun cihaza taşıma\n",
    "        batch_inputs, batch_targets = batch_inputs.to(\n",
    "            device), batch_targets.to(device)\n",
    "\n",
    "        # Modeli eğitme\n",
    "        outputs = model(batch_inputs)\n",
    "        loss = criterion(outputs, batch_targets.unsqueeze(1))\n",
    "\n",
    "        # Geriye yayılım ve optimizasyon adımı\n",
    "        optimizer.zero_grad()\n",
    "        loss.backward()\n",
    "        optimizer.step()\n",
    "\n",
    "    # Her epoch sonunda eğitim kaybını yazdırma\n",
    "    print(f'Epoch [{epoch+1}/{num_epochs}], Loss: {loss.item():.4f}')"
   ]
  },
  {
   "cell_type": "code",
   "execution_count": 17,
   "metadata": {},
   "outputs": [],
   "source": [
    "# Modeli değerlendirme (test veri seti üzerinde)\n",
    "model.eval()\n",
    "test_loss = 0\n",
    "all_targets = []\n",
    "all_predictions = []\n",
    "\n",
    "with torch.no_grad():\n",
    "    for batch_inputs, batch_targets in test_loader:\n",
    "        batch_inputs, batch_targets = batch_inputs.to(\n",
    "            device), batch_targets.to(device)\n",
    "        outputs = model(batch_inputs)\n",
    "        test_loss += criterion(outputs, batch_targets.unsqueeze(1)).item()\n",
    "        all_targets.extend(batch_targets.cpu().numpy())\n",
    "        all_predictions.extend(outputs.cpu().numpy())"
   ]
  },
  {
   "cell_type": "code",
   "execution_count": 18,
   "metadata": {},
   "outputs": [
    {
     "name": "stdout",
     "output_type": "stream",
     "text": [
      "Test Loss: 4.4735\n",
      "Mean Squared Error: 4.7441\n",
      "R^2 Score: 0.8852\n"
     ]
    }
   ],
   "source": [
    "# Test veri seti üzerindeki ortalama kaybı hesaplama\n",
    "mean_test_loss = test_loss / len(test_loader)\n",
    "print(f'Test Loss: {mean_test_loss:.4f}')\n",
    "\n",
    "# Mean Squared Error ve R^2 Score hesaplama\n",
    "mse = mean_squared_error(all_targets, all_predictions)\n",
    "r2 = r2_score(all_targets, all_predictions)\n",
    "\n",
    "print(f'Mean Squared Error: {mse:.4f}')\n",
    "print(f'R^2 Score: {r2:.4f}')"
   ]
  },
  {
   "cell_type": "code",
   "execution_count": 19,
   "metadata": {},
   "outputs": [
    {
     "name": "stdout",
     "output_type": "stream",
     "text": [
      "[15.684211, 14.571428, 12.111111, 11.0, 11.789474]\n",
      "[array([28.027569], dtype=float32), array([15.272582], dtype=float32), array([14.947316], dtype=float32), array([14.326501], dtype=float32), array([13.310998], dtype=float32)]\n"
     ]
    }
   ],
   "source": [
    "print(all_targets[:5])\n",
    "print(all_predictions[:5])"
   ]
  }
 ],
 "metadata": {
  "kernelspec": {
   "display_name": "Python 3",
   "language": "python",
   "name": "python3"
  },
  "language_info": {
   "codemirror_mode": {
    "name": "ipython",
    "version": 3
   },
   "file_extension": ".py",
   "mimetype": "text/x-python",
   "name": "python",
   "nbconvert_exporter": "python",
   "pygments_lexer": "ipython3",
   "version": "3.11.4"
  }
 },
 "nbformat": 4,
 "nbformat_minor": 2
}
